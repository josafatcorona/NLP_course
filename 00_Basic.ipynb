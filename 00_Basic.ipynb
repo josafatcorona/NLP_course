{
 "cells": [
  {
   "cell_type": "code",
   "execution_count": 8,
   "id": "664dc97a-b1cd-4643-ab56-271c31a9c196",
   "metadata": {},
   "outputs": [],
   "source": [
    "import nltk\n",
    "import pandas as pd\n",
    "from datetime import datetime\n",
    "import seaborn"
   ]
  },
  {
   "cell_type": "code",
   "execution_count": 9,
   "id": "d4be1e74-1c07-4917-926e-773fbfc5502e",
   "metadata": {},
   "outputs": [],
   "source": [
    "today=datetime(year=2023,month=5,day=29)"
   ]
  },
  {
   "cell_type": "code",
   "execution_count": 10,
   "id": "e6033540-28f6-4ffe-80fc-4bab7290cfc6",
   "metadata": {},
   "outputs": [
    {
     "data": {
      "text/plain": [
       "datetime.datetime(2023, 5, 29, 0, 0)"
      ]
     },
     "execution_count": 10,
     "metadata": {},
     "output_type": "execute_result"
    }
   ],
   "source": [
    "today"
   ]
  },
  {
   "cell_type": "code",
   "execution_count": 12,
   "id": "11160a1f-6fd0-4503-99f4-edba86b25bee",
   "metadata": {},
   "outputs": [
    {
     "name": "stdout",
     "output_type": "stream",
     "text": [
      "May 29, 2023\n"
     ]
    }
   ],
   "source": [
    "print(f\"{today:%B %d, %Y}\")"
   ]
  },
  {
   "cell_type": "markdown",
   "id": "3733d3c0-38ed-4f5b-98e4-44fc4a52c1a5",
   "metadata": {},
   "source": [
    "</h1>TextFiles<h1>"
   ]
  },
  {
   "cell_type": "code",
   "execution_count": 18,
   "id": "f84f7f88-d2dc-4c9f-a2d4-583e5ffbf748",
   "metadata": {},
   "outputs": [
    {
     "name": "stdout",
     "output_type": "stream",
     "text": [
      "Writing test.txt\n"
     ]
    }
   ],
   "source": [
    "%%writefile test.txt\n",
    "Hello, this is a quick file.\n",
    "This is the second line of the text."
   ]
  },
  {
   "cell_type": "code",
   "execution_count": 35,
   "id": "cd9a7bd9-0b73-4a01-89e2-e932e12cf59e",
   "metadata": {},
   "outputs": [],
   "source": [
    "myfile=open('test.txt','r')"
   ]
  },
  {
   "cell_type": "code",
   "execution_count": 24,
   "id": "eb3f13f6-6c47-44f0-886d-5aaf6380e3b6",
   "metadata": {},
   "outputs": [
    {
     "data": {
      "text/plain": [
       "'Hello, this is a quick file.\\nThis is the second line of the text.\\n'"
      ]
     },
     "execution_count": 24,
     "metadata": {},
     "output_type": "execute_result"
    }
   ],
   "source": [
    "myfile.read()"
   ]
  },
  {
   "cell_type": "code",
   "execution_count": 39,
   "id": "c47593b6-4f8f-46a6-bf8a-2da22f03e56f",
   "metadata": {},
   "outputs": [
    {
     "data": {
      "text/plain": [
       "0"
      ]
     },
     "execution_count": 39,
     "metadata": {},
     "output_type": "execute_result"
    }
   ],
   "source": [
    "myfile.seek(0)"
   ]
  },
  {
   "cell_type": "code",
   "execution_count": 27,
   "id": "f225f496-5cd8-4d63-a86f-64d92fcf74ca",
   "metadata": {},
   "outputs": [
    {
     "data": {
      "text/plain": [
       "'Hello, this is a quick file.\\nThis is the second line of the text.\\n'"
      ]
     },
     "execution_count": 27,
     "metadata": {},
     "output_type": "execute_result"
    }
   ],
   "source": [
    "myfile.read()"
   ]
  },
  {
   "cell_type": "code",
   "execution_count": 36,
   "id": "c86dda4f-d3d4-4d6e-a9fb-400cc0ac44cb",
   "metadata": {},
   "outputs": [
    {
     "data": {
      "text/plain": [
       "'Hello, this is a quick file.\\nThis is the second line of the text.\\n'"
      ]
     },
     "execution_count": 36,
     "metadata": {},
     "output_type": "execute_result"
    }
   ],
   "source": [
    "content = myfile.read()\n",
    "content"
   ]
  },
  {
   "cell_type": "code",
   "execution_count": 33,
   "id": "d56d367a-fafa-4308-a01d-4da553e790a2",
   "metadata": {},
   "outputs": [],
   "source": [
    "myfile.close()"
   ]
  },
  {
   "cell_type": "code",
   "execution_count": 40,
   "id": "f07fc3d7-a6a1-4ba0-b2ab-0b3842f5b9e9",
   "metadata": {},
   "outputs": [],
   "source": [
    "mylines = myfile.readlines()"
   ]
  },
  {
   "cell_type": "code",
   "execution_count": 41,
   "id": "3ae33c3a-0a1b-47f5-bb1a-be8901cef523",
   "metadata": {},
   "outputs": [
    {
     "name": "stdout",
     "output_type": "stream",
     "text": [
      "Hello, this is a quick file.\n",
      "\n",
      "This is the second line of the text.\n",
      "\n"
     ]
    }
   ],
   "source": [
    "for line in mylines:\n",
    "    print(line)"
   ]
  },
  {
   "cell_type": "code",
   "execution_count": null,
   "id": "1aeb379b-6853-44d6-adfa-f001e6325046",
   "metadata": {},
   "outputs": [],
   "source": []
  }
 ],
 "metadata": {
  "kernelspec": {
   "display_name": "Python 3 (ipykernel)",
   "language": "python",
   "name": "python3"
  },
  "language_info": {
   "codemirror_mode": {
    "name": "ipython",
    "version": 3
   },
   "file_extension": ".py",
   "mimetype": "text/x-python",
   "name": "python",
   "nbconvert_exporter": "python",
   "pygments_lexer": "ipython3",
   "version": "3.9.4"
  }
 },
 "nbformat": 4,
 "nbformat_minor": 5
}
