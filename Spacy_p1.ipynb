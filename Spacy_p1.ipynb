{
 "cells": [
  {
   "cell_type": "code",
   "execution_count": null,
   "id": "a7b04336",
   "metadata": {},
   "outputs": [],
   "source": [
    "import spacy"
   ]
  },
  {
   "cell_type": "code",
   "execution_count": null,
   "id": "cfca27b2",
   "metadata": {},
   "outputs": [],
   "source": [
    "nlp = spacy.load('en_core_web_sm')"
   ]
  },
  {
   "cell_type": "code",
   "execution_count": null,
   "id": "89f12377",
   "metadata": {},
   "outputs": [],
   "source": [
    "doc = nlp(u'Tesla is looking at buying U.S. startup for $6 million')"
   ]
  },
  {
   "cell_type": "code",
   "execution_count": null,
   "id": "67ef64ac",
   "metadata": {},
   "outputs": [],
   "source": [
    "for token in doc:\n",
    "    print(token.text,token.pos_,token.dep_)"
   ]
  },
  {
   "attachments": {
    "image.png": {
     "image/png": "[encoded data removed]"
    }
   },
   "cell_type": "markdown",
   "id": "7778352a",
   "metadata": {},
   "source": [
    "![image.png](attachment:image.png)"
   ]
  },
  {
   "cell_type": "code",
   "execution_count": null,
   "id": "f54a3ccf",
   "metadata": {},
   "outputs": [],
   "source": [
    "nlp.pipeline"
   ]
  },
  {
   "cell_type": "code",
   "execution_count": null,
   "id": "ad7ba01b",
   "metadata": {},
   "outputs": [],
   "source": [
    "doc2=nlp(u\"Tesla isn't looking into startups anymore.\")"
   ]
  },
  {
   "cell_type": "code",
   "execution_count": null,
   "id": "d614bade",
   "metadata": {},
   "outputs": [],
   "source": [
    "for token in doc2:\n",
    "    print(token.text,token.pos_,token.dep_)"
   ]
  },
  {
   "cell_type": "code",
   "execution_count": null,
   "id": "417ab12d",
   "metadata": {},
   "outputs": [],
   "source": [
    "doc2[0]"
   ]
  },
  {
   "cell_type": "code",
   "execution_count": null,
   "id": "acfe106d",
   "metadata": {},
   "outputs": [],
   "source": [
    "doc2[0].pos_"
   ]
  },
  {
   "cell_type": "code",
   "execution_count": null,
   "id": "b9fd75c5",
   "metadata": {},
   "outputs": [],
   "source": [
    "#Español\n",
    "#!python -m spacy download es_core_news_sm\n",
    "import spacy\n",
    "nlp = spacy.load(\"es_core_news_sm\")\n",
    "import es_core_news_sm\n",
    "nlp = es_core_news_sm.load()\n",
    "doc = nlp(\"Esto es una frase.\")\n",
    "print([(w.text, w.pos_) for w in doc])"
   ]
  },
  {
   "cell_type": "code",
   "execution_count": null,
   "id": "eb386c2c",
   "metadata": {},
   "outputs": [],
   "source": [
    "doc_es = nlp(u\"Tesla no está buscando más startups\")"
   ]
  },
  {
   "cell_type": "code",
   "execution_count": null,
   "id": "a60e8292",
   "metadata": {},
   "outputs": [],
   "source": [
    "for token in doc_es:\n",
    "    print(token.shape_,token.text,token.pos_,token.dep_)"
   ]
  },
  {
   "cell_type": "markdown",
   "id": "7968f8c9",
   "metadata": {},
   "source": [
    "|Tag|Description|doc2[0].tag|\n",
    "|:------|:------:|:------|\n",
    "|`.text`|The original word text<!-- .element: style=\"text-align:left;\" -->|`Tesla`|\n",
    "|`.lemma_`|The base form of the word|`tesla`|\n",
    "|`.pos_`|The simple part-of-speech tag|`PROPN`/`proper noun`|\n",
    "|`.tag_`|The detailed part-of-speech tag|`NNP`/`noun, proper singular`|\n",
    "|`.shape_`|The word shape – capitalization, punctuation, digits|`Xxxxx`|\n",
    "|`.is_alpha`|Is the token an alpha character?|`True`|\n",
    "|`.is_stop`|Is the token part of a stop list, i.e. the most common words of the language?|`False`|"
   ]
  },
  {
   "cell_type": "code",
   "execution_count": null,
   "id": "fe812b78",
   "metadata": {},
   "outputs": [],
   "source": [
    "doc3 = nlp(u'Although commmonly attributed to John Lennon from his song \"Beautiful Boy\", \\\n",
    "the phrase \"Life is what happens to us while we are making other plans\" was written by \\\n",
    "cartoonist Allen Saunders and published in Reader\\'s Digest in 1957, when Lennon was 17.')"
   ]
  },
  {
   "cell_type": "code",
   "execution_count": null,
   "id": "c5d8deb3",
   "metadata": {},
   "outputs": [],
   "source": [
    "life_quote = doc3[16:30]\n",
    "print(life_quote)"
   ]
  },
  {
   "cell_type": "code",
   "execution_count": null,
   "id": "8a07d716",
   "metadata": {},
   "outputs": [],
   "source": [
    "type(life_quote)"
   ]
  },
  {
   "cell_type": "code",
   "execution_count": null,
   "id": "ed36f68d",
   "metadata": {},
   "outputs": [],
   "source": [
    "type(doc3)"
   ]
  },
  {
   "cell_type": "markdown",
   "id": "c437cc91",
   "metadata": {},
   "source": [
    "<h2>Sentences</h2>\n",
    "\n",
    "Certain tokens inside a Doc object may also receive a \"start of sentence\" tag. While this doesn't immediately build a list of sentences, these tags enable the generation of sentence segments through Doc.sents. Later we'll write our own segmentation rules."
   ]
  },
  {
   "cell_type": "code",
   "execution_count": null,
   "id": "02463983",
   "metadata": {},
   "outputs": [],
   "source": [
    "doc4 = nlp(u'This is the first sentence. This is another sentence. This is the last sentence.')"
   ]
  },
  {
   "cell_type": "code",
   "execution_count": null,
   "id": "9f1ecc79",
   "metadata": {},
   "outputs": [],
   "source": [
    "for sentence in doc4.sents:\n",
    "    print(sentence)"
   ]
  },
  {
   "cell_type": "code",
   "execution_count": null,
   "id": "3f24aa1c",
   "metadata": {},
   "outputs": [],
   "source": [
    "doc4[6]"
   ]
  },
  {
   "cell_type": "code",
   "execution_count": null,
   "id": "fcdbd303",
   "metadata": {},
   "outputs": [],
   "source": [
    "doc4[6].is_sent_start"
   ]
  },
  {
   "cell_type": "code",
   "execution_count": null,
   "id": "7cee8707",
   "metadata": {},
   "outputs": [],
   "source": [
    "doc4[7].is_sent_start"
   ]
  },
  {
   "attachments": {},
   "cell_type": "markdown",
   "id": "eef057d9",
   "metadata": {},
   "source": [
    "<h1>Tokenization</h1>"
   ]
  },
  {
   "attachments": {
    "image.png": {
     "image/png": "[encoded data removed]"
    }
   },
   "cell_type": "markdown",
   "id": "7204bcf3",
   "metadata": {},
   "source": [
    "![image.png](attachment:image.png)"
   ]
  },
  {
   "cell_type": "code",
   "execution_count": null,
   "id": "9549ee95",
   "metadata": {},
   "outputs": [],
   "source": [
    "import spacy\n",
    "nlp = spacy.load('en_core_web_sm')"
   ]
  },
  {
   "cell_type": "code",
   "execution_count": null,
   "id": "5bed8bc7",
   "metadata": {},
   "outputs": [],
   "source": [
    "mystring = '\"We\\'re moving to L.A.!\"'"
   ]
  },
  {
   "cell_type": "code",
   "execution_count": null,
   "id": "ebd3ec95",
   "metadata": {},
   "outputs": [],
   "source": [
    "print(mystring)"
   ]
  },
  {
   "cell_type": "code",
   "execution_count": null,
   "id": "4d802ac8",
   "metadata": {},
   "outputs": [],
   "source": [
    "doc=nlp(mystring)"
   ]
  },
  {
   "cell_type": "code",
   "execution_count": null,
   "id": "d5816af1",
   "metadata": {},
   "outputs": [],
   "source": [
    "for token in doc:\n",
    "    print(token)"
   ]
  },
  {
   "cell_type": "code",
   "execution_count": null,
   "id": "6ff8cebe",
   "metadata": {},
   "outputs": [],
   "source": [
    "doc2=nlp(u\"We're here to help! Send snail-email, support@oursite.com or visit us at https://www.support.com!\" )"
   ]
  },
  {
   "cell_type": "code",
   "execution_count": null,
   "id": "77992e12",
   "metadata": {},
   "outputs": [],
   "source": [
    "for token in doc2:\n",
    "    print(token)"
   ]
  },
  {
   "cell_type": "code",
   "execution_count": null,
   "id": "488eab51",
   "metadata": {},
   "outputs": [],
   "source": [
    "doc3 = nlp(u\"A 5km NYC cab costs $10.30\")"
   ]
  },
  {
   "cell_type": "code",
   "execution_count": null,
   "id": "e97031c6",
   "metadata": {},
   "outputs": [],
   "source": [
    "for token in doc3:\n",
    "    print(token)"
   ]
  },
  {
   "cell_type": "code",
   "execution_count": null,
   "id": "96144067",
   "metadata": {},
   "outputs": [],
   "source": [
    "doc4 = nlp(u\"Let's visti St. Luis in the U.S next year.\")"
   ]
  },
  {
   "cell_type": "code",
   "execution_count": null,
   "id": "d51285d9",
   "metadata": {},
   "outputs": [],
   "source": [
    "for token in doc4:\n",
    "    print(token)"
   ]
  },
  {
   "cell_type": "code",
   "execution_count": null,
   "id": "559f4adf",
   "metadata": {},
   "outputs": [],
   "source": [
    "len(doc4)"
   ]
  },
  {
   "cell_type": "code",
   "execution_count": null,
   "id": "aa82fb88",
   "metadata": {},
   "outputs": [],
   "source": [
    "len(doc4.vocab)"
   ]
  },
  {
   "cell_type": "code",
   "execution_count": null,
   "id": "244af33b",
   "metadata": {},
   "outputs": [],
   "source": [
    "doc5 = nlp(u\"It is better to give than receive\")"
   ]
  },
  {
   "cell_type": "code",
   "execution_count": null,
   "id": "8f97c7b6",
   "metadata": {},
   "outputs": [],
   "source": [
    "doc5[0]"
   ]
  },
  {
   "cell_type": "code",
   "execution_count": null,
   "id": "4e711530",
   "metadata": {},
   "outputs": [],
   "source": [
    "doc5[0]='test'#doesn't support assigment"
   ]
  },
  {
   "cell_type": "markdown",
   "id": "68823718",
   "metadata": {},
   "source": [
    "<h2>Named Entities</h2>\n",
    "\n",
    "Going a step beyond tokens, named entities add another layer of context. The language model recognizes that certain words are organizational names while others are locations, and still other combinations relate to money, dates, etc. Named entities are accessible through the ents property of a Doc object."
   ]
  },
  {
   "cell_type": "code",
   "execution_count": null,
   "id": "f2d9622c",
   "metadata": {},
   "outputs": [],
   "source": [
    "doc8 = nlp(u'Apple to build a Hong Kong factory for $6 million')\n",
    "\n",
    "for token in doc8:\n",
    "    print(token.text, end=' | ')\n",
    "\n",
    "print('\\n----')\n",
    "\n",
    "for ent in doc8.ents:\n",
    "    print(ent.text+' - '+ent.label_+' - '+str(spacy.explain(ent.label_)))"
   ]
  },
  {
   "cell_type": "markdown",
   "id": "93f950b3",
   "metadata": {},
   "source": [
    "<h3>Noun Chunks</h3>\n",
    "Similar to Doc.ents, Doc.noun_chunks are another object property. Noun chunks are \"base noun phrases\" – \n",
    "flat phrases that have a noun as their head. You can think of noun chunks as a noun plus the words \n",
    "describing the noun – for example, in Sheb Wooley's 1958 song, a \"one-eyed, one-horned, flying, purple\n",
    "people-eater\" would be one long noun chunk."
   ]
  },
  {
   "cell_type": "code",
   "execution_count": null,
   "id": "4f2b6f94",
   "metadata": {},
   "outputs": [],
   "source": [
    "doc9 = nlp(u\"Autonomous cars shift insurance liability toward manufacturers.\")\n",
    "\n",
    "for chunk in doc9.noun_chunks:\n",
    "    print(chunk.text)"
   ]
  },
  {
   "cell_type": "code",
   "execution_count": null,
   "id": "c97c9ffc",
   "metadata": {},
   "outputs": [],
   "source": [
    "from spacy import displacy"
   ]
  },
  {
   "cell_type": "code",
   "execution_count": null,
   "id": "c9fd8fdb",
   "metadata": {},
   "outputs": [],
   "source": [
    "doc = nlp(u\"Apple is oging to build a U.K. factory for $6 million.\")"
   ]
  },
  {
   "cell_type": "code",
   "execution_count": null,
   "id": "d3fb8b3f",
   "metadata": {},
   "outputs": [],
   "source": [
    "displacy.render(doc,style='dep',jupyter=True, options={'distance':80})"
   ]
  },
  {
   "cell_type": "code",
   "execution_count": null,
   "id": "d21ac571",
   "metadata": {},
   "outputs": [],
   "source": [
    "doc=nlp(u\"Over the last quarter Apple sold nearly 20 thousand iPods for a profit of $6 million.\")"
   ]
  },
  {
   "cell_type": "code",
   "execution_count": null,
   "id": "71e5aba6",
   "metadata": {},
   "outputs": [],
   "source": [
    "displacy.render(doc,style='ent',jupyter=True)"
   ]
  },
  {
   "cell_type": "code",
   "execution_count": null,
   "id": "bedf15bf",
   "metadata": {},
   "outputs": [],
   "source": [
    "doc=nlp(u\"Over the last quarter Apple sold nearly 20 thousand iPods for a profit of $6 million.\")\n",
    "displacy.serve(doc,style='ent')"
   ]
  },
  {
   "cell_type": "markdown",
   "id": "406d5f7a",
   "metadata": {},
   "source": [
    "<h1>Stemmer</h1>"
   ]
  },
  {
   "cell_type": "code",
   "execution_count": 1,
   "id": "fe6263e1",
   "metadata": {},
   "outputs": [],
   "source": [
    "import nltk\n",
    "from nltk.stem.porter import PorterStemmer"
   ]
  },
  {
   "cell_type": "code",
   "execution_count": 2,
   "id": "e88b7926",
   "metadata": {},
   "outputs": [
    {
     "name": "stdout",
     "output_type": "stream",
     "text": [
      "run---->run\n",
      "runner---->runner\n",
      "ran---->ran\n",
      "runs---->run\n",
      "easily---->easili\n",
      "fairly---->fairli\n",
      "fairness---->fair\n"
     ]
    }
   ],
   "source": [
    "p_stemmer = PorterStemmer()\n",
    "words=['run','runner','ran','runs','easily','fairly','fairness']\n",
    "for word in words:\n",
    "    print(word+'---->'+ p_stemmer.stem(word))"
   ]
  },
  {
   "cell_type": "code",
   "execution_count": 4,
   "id": "eab4f28c",
   "metadata": {},
   "outputs": [],
   "source": [
    "from nltk.stem.snowball import SnowballStemmer"
   ]
  },
  {
   "cell_type": "code",
   "execution_count": 5,
   "id": "c44d889b",
   "metadata": {},
   "outputs": [
    {
     "name": "stdout",
     "output_type": "stream",
     "text": [
      "run---->run\n",
      "runner---->runner\n",
      "ran---->ran\n",
      "runs---->run\n",
      "easily---->easili\n",
      "fairly---->fairli\n",
      "fairness---->fair\n"
     ]
    }
   ],
   "source": [
    "s_stemmer = SnowballStemmer(language='english')\n",
    "for word in words:\n",
    "    print(word+'---->'+ p_stemmer.stem(word))"
   ]
  },
  {
   "cell_type": "code",
   "execution_count": 6,
   "id": "30d8eed5",
   "metadata": {},
   "outputs": [
    {
     "name": "stdout",
     "output_type": "stream",
     "text": [
      "generous---->gener\n",
      "generation---->gener\n",
      "generously---->gener\n",
      "generate---->gener\n"
     ]
    }
   ],
   "source": [
    "words=['generous','generation','generously','generate']\n",
    "for word in words:\n",
    "    print(word+'---->'+ p_stemmer.stem(word))"
   ]
  },
  {
   "cell_type": "markdown",
   "id": "b6b6292b",
   "metadata": {},
   "source": [
    "<h1>Lemmatization</h1>"
   ]
  },
  {
   "cell_type": "code",
   "execution_count": 8,
   "id": "84794fee",
   "metadata": {},
   "outputs": [],
   "source": [
    "# Perform standard imports:\n",
    "import spacy\n",
    "nlp = spacy.load('en_core_web_sm')"
   ]
  },
  {
   "cell_type": "code",
   "execution_count": 9,
   "id": "32bdafa5",
   "metadata": {},
   "outputs": [
    {
     "name": "stdout",
     "output_type": "stream",
     "text": [
      "I \t PRON \t 4690420944186131903 \t I\n",
      "am \t AUX \t 10382539506755952630 \t be\n",
      "a \t DET \t 11901859001352538922 \t a\n",
      "runner \t NOUN \t 12640964157389618806 \t runner\n",
      "running \t VERB \t 12767647472892411841 \t run\n",
      "in \t ADP \t 3002984154512732771 \t in\n",
      "a \t DET \t 11901859001352538922 \t a\n",
      "race \t NOUN \t 8048469955494714898 \t race\n",
      "because \t SCONJ \t 16950148841647037698 \t because\n",
      "I \t PRON \t 4690420944186131903 \t I\n",
      "love \t VERB \t 3702023516439754181 \t love\n",
      "to \t PART \t 3791531372978436496 \t to\n",
      "run \t VERB \t 12767647472892411841 \t run\n",
      "since \t SCONJ \t 10066841407251338481 \t since\n",
      "I \t PRON \t 4690420944186131903 \t I\n",
      "ran \t VERB \t 12767647472892411841 \t run\n",
      "today \t NOUN \t 11042482332948150395 \t today\n"
     ]
    }
   ],
   "source": [
    "doc1 = nlp(u\"I am a runner running in a race because I love to run since I ran today\")\n",
    "\n",
    "for token in doc1:\n",
    "    print(token.text, '\\t', token.pos_, '\\t', token.lemma, '\\t', token.lemma_)"
   ]
  },
  {
   "cell_type": "code",
   "execution_count": 10,
   "id": "b9c19f23",
   "metadata": {},
   "outputs": [],
   "source": [
    "def show_lemmas(text):\n",
    "    for token in text:\n",
    "        print(f'{token.text:{12}} {token.pos_:{6}} {token.lemma:<{22}} {token.lemma_}')"
   ]
  },
  {
   "cell_type": "code",
   "execution_count": 11,
   "id": "89f5e1ac",
   "metadata": {},
   "outputs": [
    {
     "name": "stdout",
     "output_type": "stream",
     "text": [
      "I            PRON   4690420944186131903    I\n",
      "am           AUX    10382539506755952630   be\n",
      "meeting      VERB   6880656908171229526    meet\n",
      "him          PRON   1655312771067108281    he\n",
      "tomorrow     NOUN   3573583789758258062    tomorrow\n",
      "at           ADP    11667289587015813222   at\n",
      "the          DET    7425985699627899538    the\n",
      "meeting      NOUN   14798207169164081740   meeting\n",
      ".            PUNCT  12646065887601541794   .\n"
     ]
    }
   ],
   "source": [
    "doc3 = nlp(u\"I am meeting him tomorrow at the meeting.\")\n",
    "\n",
    "show_lemmas(doc3)"
   ]
  },
  {
   "cell_type": "markdown",
   "id": "88fb5904",
   "metadata": {},
   "source": [
    "<h1>Stopwords</h1>"
   ]
  },
  {
   "cell_type": "code",
   "execution_count": 17,
   "id": "f59fb5a7",
   "metadata": {},
   "outputs": [
    {
     "name": "stdout",
     "output_type": "stream",
     "text": [
      "{'latterly', 'namely', 'done', 'never', 'on', 'off', 'otherwise', 'keep', 'name', 'them', 'be', 'made', 'next', 'yet', 'but', 'seemed', '’m', 'when', 'ever', 'in', 'whereas', 'except', 'once', 'hence', 'somewhere', '’ll', 'everywhere', 'she', 'if', 'make', 'sixty', 'rather', 'we', 'your', 'whereupon', 'also', 'some', 'nevertheless', 'full', 'due', 'third', 'towards', 'sometimes', '’s', 'those', 'herself', 'as', 'anyway', 'among', 'moreover', 'why', 'themselves', 'can', 'take', 'you', 'everyone', 'becomes', 'the', 'again', 'thereby', 'however', 'meanwhile', 'bottom', 'amongst', 'did', 'around', 'serious', 'becoming', 'both', 'there', 'these', 'still', 'herein', 'thereupon', 'until', 'more', \"'d\", 'neither', 'twelve', 'and', 'for', 'a', 'with', 'could', 'do', 'ourselves', 'will', 'mostly', \"'m\", 'n’t', 'two', 'one', 'sometime', 'without', 'another', 'from', 'others', 'wherein', 'against', '‘ll', 'further', 'hereupon', 'after', 'what', 'least', 'it', 'hundred', 'somehow', 'five', 'at', 'regarding', 'beforehand', 'six', \"'re\", '‘s', 'nor', 'whoever', 'thru', 'now', 'top', 'been', 'whenever', 'toward', 'even', 'although', 'to', \"'ll\", 'because', 'am', 'already', '’d', '‘d', 'together', 'though', 'yours', 'first', 'many', \"n't\", 'each', 'seeming', 'either', 'his', 'only', 'eight', 'using', 'doing', 'such', 'ours', 'side', 'no', 'they', 'itself', 'before', 'i', 'onto', 'whatever', 'under', '‘m', 'became', 'then', 'up', \"'s\", 'does', 'us', 'within', 'whole', 'their', 'less', 'often', 'while', 'whose', 'latter', 'own', 'him', 'might', 'would', 'become', 'than', '‘ve', 'see', 'whereafter', 'of', 'had', 'by', 'whether', 'who', 'show', 'besides', 'beside', 'over', 'call', 'about', 'yourself', 'same', 'someone', 'something', 'unless', '’ve', 'else', 'just', 'or', 'elsewhere', 'therein', 'other', \"'ve\", 'not', 'hereafter', 'behind', 'are', 'move', 'put', 'thus', 're', 'anything', 'through', 'ca', 'mine', 'our', 'which', 'fifty', 'beyond', 'across', 'whereby', 'empty', 'nine', 'along', 'alone', 'forty', 'whom', 'few', 'back', 'all', 'used', 'being', 'throughout', 'get', 'nobody', 'out', 'have', 'thence', 'too', 'thereafter', 'since', 'via', 'yourselves', 'must', 'much', 'me', 'every', 'none', 'anyhow', 'enough', 'really', 'always', 'during', 'n‘t', 'my', 'formerly', 'most', 'twenty', 'several', 'four', 'amount', 'almost', 'former', 'myself', 'nothing', 'this', 'so', 'cannot', 'say', 'well', 'were', 'three', 'afterwards', 'anyone', 'its', 'quite', 'wherever', 'please', 'very', 'give', 'whence', 'her', 'nowhere', 'how', 'between', 'ten', 'hers', '‘re', 'go', 'himself', 'has', 'is', 'down', 'per', 'noone', 'various', 'eleven', 'part', 'into', 'above', 'seem', 'whither', 'anywhere', 'hereby', 'fifteen', 'may', 'that', 'everything', 'here', 'he', 'perhaps', '’re', 'front', 'seems', 'indeed', 'any', 'last', 'was', 'therefore', 'upon', 'an', 'should', 'below', 'where'}\n"
     ]
    }
   ],
   "source": [
    "nlp = spacy.load('en_core_web_sm')\n",
    "print(nlp.Defaults.stop_words)"
   ]
  },
  {
   "cell_type": "code",
   "execution_count": 18,
   "id": "d035a3d2",
   "metadata": {},
   "outputs": [
    {
     "data": {
      "text/plain": [
       "326"
      ]
     },
     "execution_count": 18,
     "metadata": {},
     "output_type": "execute_result"
    }
   ],
   "source": [
    "len(nlp.Defaults.stop_words)"
   ]
  },
  {
   "cell_type": "code",
   "execution_count": 20,
   "id": "7fac3406",
   "metadata": {},
   "outputs": [
    {
     "data": {
      "text/plain": [
       "True"
      ]
     },
     "execution_count": 20,
     "metadata": {},
     "output_type": "execute_result"
    }
   ],
   "source": [
    "nlp.vocab['is'].is_stop"
   ]
  },
  {
   "cell_type": "code",
   "execution_count": 21,
   "id": "ae1c1919",
   "metadata": {},
   "outputs": [
    {
     "data": {
      "text/plain": [
       "False"
      ]
     },
     "execution_count": 21,
     "metadata": {},
     "output_type": "execute_result"
    }
   ],
   "source": [
    "nlp.vocab['mystery'].is_stop"
   ]
  },
  {
   "cell_type": "code",
   "execution_count": 24,
   "id": "991333a0",
   "metadata": {},
   "outputs": [],
   "source": [
    "#Add a particular word\n",
    "nlp.Defaults.stop_words.add('btw')\n",
    "nlp.vocab['btw'].is_stop= True"
   ]
  },
  {
   "cell_type": "code",
   "execution_count": 25,
   "id": "d71d7b22",
   "metadata": {},
   "outputs": [
    {
     "data": {
      "text/plain": [
       "327"
      ]
     },
     "execution_count": 25,
     "metadata": {},
     "output_type": "execute_result"
    }
   ],
   "source": [
    "len(nlp.Defaults.stop_words)"
   ]
  },
  {
   "cell_type": "code",
   "execution_count": 26,
   "id": "0ca122ac",
   "metadata": {},
   "outputs": [
    {
     "data": {
      "text/plain": [
       "True"
      ]
     },
     "execution_count": 26,
     "metadata": {},
     "output_type": "execute_result"
    }
   ],
   "source": [
    "nlp.vocab['btw'].is_stop"
   ]
  },
  {
   "cell_type": "code",
   "execution_count": 31,
   "id": "d79c9dbc",
   "metadata": {},
   "outputs": [
    {
     "data": {
      "text/plain": [
       "True"
      ]
     },
     "execution_count": 31,
     "metadata": {},
     "output_type": "execute_result"
    }
   ],
   "source": [
    "#Remove a word\n",
    "nlp.vocab['indeed'].is_stop"
   ]
  },
  {
   "cell_type": "code",
   "execution_count": 34,
   "id": "9d52d4fd",
   "metadata": {},
   "outputs": [],
   "source": [
    "#nlp.Defaults.stop_words.remove('indeed')\n",
    "nlp.vocab['indeed'].is_stop= False"
   ]
  },
  {
   "cell_type": "code",
   "execution_count": 35,
   "id": "3728a39e",
   "metadata": {},
   "outputs": [
    {
     "data": {
      "text/plain": [
       "False"
      ]
     },
     "execution_count": 35,
     "metadata": {},
     "output_type": "execute_result"
    }
   ],
   "source": [
    "nlp.vocab['indeed'].is_stop"
   ]
  },
  {
   "cell_type": "markdown",
   "id": "a50703f2",
   "metadata": {},
   "source": [
    "<h1>Phrase Matching</h1>"
   ]
  },
  {
   "cell_type": "code",
   "execution_count": 37,
   "id": "78dcda21",
   "metadata": {},
   "outputs": [],
   "source": [
    "import spacy"
   ]
  },
  {
   "cell_type": "markdown",
   "id": "505e4ba7",
   "metadata": {},
   "source": [
    "This found both two-word patterns, with and without the hyphen!\n",
    "\n",
    "The following quantifiers can be passed to the `'OP'` key:\n",
    "<table><tr><th>OP</th><th>Description</th></tr>\n",
    "\n",
    "<tr ><td><span >\\!</span></td><td>Negate the pattern, by requiring it to match exactly 0 times</td></tr>\n",
    "<tr ><td><span >?</span></td><td>Make the pattern optional, by allowing it to match 0 or 1 times</td></tr>\n",
    "<tr ><td><span >\\+</span></td><td>Require the pattern to match 1 or more times</td></tr>\n",
    "<tr ><td><span >\\*</span></td><td>Allow the pattern to match zero or more times</td></tr>\n",
    "</table>"
   ]
  },
  {
   "cell_type": "code",
   "execution_count": 38,
   "id": "edac2b9f",
   "metadata": {},
   "outputs": [],
   "source": [
    "nlp = spacy.load('en_core_web_sm')\n",
    "from spacy.matcher import Matcher\n",
    "matcher = Matcher(nlp.vocab)"
   ]
  },
  {
   "cell_type": "code",
   "execution_count": 53,
   "id": "057565f5",
   "metadata": {},
   "outputs": [],
   "source": [
    "patterns = [\n",
    "[{'LOWER': 'solarpower'}], [{'LOWER': 'solar'}, {'IS_PUNCT': True, 'OP':'*'}, {'LOWER': 'power'}],\n",
    "[{'LOWER': 'solarpowered'}],[{'LOWER': 'solar'}, {'IS_PUNCT': True, 'OP':'*'}, {'LOWER': 'powered'}]\n",
    "]\n"
   ]
  },
  {
   "cell_type": "markdown",
   "id": "58871047",
   "metadata": {},
   "source": [
    "## Other token attributes\n",
    "Besides lemmas, there are a variety of token attributes we can use to determine matching rules:\n",
    "<table><tr><th>Attribute</th><th>Description</th></tr>\n",
    "\n",
    "<tr ><td><span >`ORTH`</span></td><td>The exact verbatim text of a token</td></tr>\n",
    "<tr ><td><span >`LOWER`</span></td><td>The lowercase form of the token text</td></tr>\n",
    "<tr ><td><span >`LENGTH`</span></td><td>The length of the token text</td></tr>\n",
    "<tr ><td><span >`IS_ALPHA`, `IS_ASCII`, `IS_DIGIT`</span></td><td>Token text consists of alphanumeric characters, ASCII characters, digits</td></tr>\n",
    "<tr ><td><span >`IS_LOWER`, `IS_UPPER`, `IS_TITLE`</span></td><td>Token text is in lowercase, uppercase, titlecase</td></tr>\n",
    "<tr ><td><span >`IS_PUNCT`, `IS_SPACE`, `IS_STOP`</span></td><td>Token is punctuation, whitespace, stop word</td></tr>\n",
    "<tr ><td><span >`LIKE_NUM`, `LIKE_URL`, `LIKE_EMAIL`</span></td><td>Token text resembles a number, URL, email</td></tr>\n",
    "<tr ><td><span >`POS`, `TAG`, `DEP`, `LEMMA`, `SHAPE`</span></td><td>The token's simple and extended part-of-speech tag, dependency label, lemma, shape</td></tr>\n",
    "<tr ><td><span >`ENT_TYPE`</span></td><td>The token's entity label</td></tr>\n",
    "\n",
    "</table>"
   ]
  },
  {
   "cell_type": "code",
   "execution_count": 58,
   "id": "fb122708",
   "metadata": {},
   "outputs": [],
   "source": [
    "#matcher.add('SolarPower',None,pattern1,pattern2,pattern3)#none=callback\n",
    "# Add the new set of patterns to the 'SolarPower' matcher:\n",
    "matcher.add('SolarPower', patterns)"
   ]
  },
  {
   "cell_type": "code",
   "execution_count": 59,
   "id": "87443d3c",
   "metadata": {},
   "outputs": [],
   "source": [
    "doc = nlp(u'The Solar Power industry continues to grow as demand \\\n",
    "for solarpower increases. Solar-power cars are gaining popularity.')"
   ]
  },
  {
   "cell_type": "code",
   "execution_count": 60,
   "id": "a40e4bde",
   "metadata": {},
   "outputs": [
    {
     "name": "stdout",
     "output_type": "stream",
     "text": [
      "[(8656102463236116519, 1, 3), (8656102463236116519, 10, 11), (8656102463236116519, 13, 16)]\n"
     ]
    }
   ],
   "source": [
    "found_matches=matcher(doc)\n",
    "print(found_matches)"
   ]
  },
  {
   "cell_type": "code",
   "execution_count": 61,
   "id": "3482f572",
   "metadata": {},
   "outputs": [
    {
     "name": "stdout",
     "output_type": "stream",
     "text": [
      "8656102463236116519 SolarPower 1 3 Solar Power\n",
      "8656102463236116519 SolarPower 10 11 solarpower\n",
      "8656102463236116519 SolarPower 13 16 Solar-power\n"
     ]
    }
   ],
   "source": [
    "for match_id, start, end in found_matches:\n",
    "    string_id = nlp.vocab.strings[match_id]  # get string representation\n",
    "    span = doc[start:end]                    # get the matched span\n",
    "    print(match_id, string_id, start, end, span.text)"
   ]
  },
  {
   "cell_type": "code",
   "execution_count": 62,
   "id": "98b9ac19",
   "metadata": {},
   "outputs": [],
   "source": [
    "matcher.remove('SolarPower')"
   ]
  },
  {
   "cell_type": "code",
   "execution_count": 63,
   "id": "57941f56",
   "metadata": {},
   "outputs": [],
   "source": [
    "patterns = [\n",
    "[{'LOWER': 'solarpower'}], [{'LOWER': 'solar'}, {'IS_PUNCT': True, 'OP':'*'}, {'LOWER': 'power'}],\n",
    "[{'LOWER': 'solarpowered'}],[{'LOWER': 'solar'}, {'IS_PUNCT': True, 'OP':'*'}, {'LOWER': 'powered'}]\n",
    "]"
   ]
  },
  {
   "cell_type": "code",
   "execution_count": 64,
   "id": "b6c5c90c",
   "metadata": {},
   "outputs": [],
   "source": [
    "# Add the new set of patterns to the 'SolarPower' matcher:\n",
    "matcher.add('SolarPower', patterns)\n",
    "doc = nlp(u'The Solar--Power industry continues to grow as demand \\\n",
    "for solarpower increases. Solar-power cars are gaining popularity.')"
   ]
  },
  {
   "cell_type": "code",
   "execution_count": 65,
   "id": "4f89821d",
   "metadata": {},
   "outputs": [
    {
     "name": "stdout",
     "output_type": "stream",
     "text": [
      "[(8656102463236116519, 1, 4), (8656102463236116519, 11, 12), (8656102463236116519, 14, 17)]\n"
     ]
    }
   ],
   "source": [
    "found_matches=matcher(doc)\n",
    "print(found_matches)"
   ]
  },
  {
   "cell_type": "code",
   "execution_count": 66,
   "id": "9d59849b",
   "metadata": {},
   "outputs": [
    {
     "name": "stdout",
     "output_type": "stream",
     "text": [
      "8656102463236116519 SolarPower 1 4 Solar--Power\n",
      "8656102463236116519 SolarPower 11 12 solarpower\n",
      "8656102463236116519 SolarPower 14 17 Solar-power\n"
     ]
    }
   ],
   "source": [
    "for match_id, start, end in found_matches:\n",
    "    string_id = nlp.vocab.strings[match_id]  # get string representation\n",
    "    span = doc[start:end]                    # get the matched span\n",
    "    print(match_id, string_id, start, end, span.text)"
   ]
  },
  {
   "cell_type": "code",
   "execution_count": 70,
   "id": "db6d2bf3",
   "metadata": {},
   "outputs": [],
   "source": [
    "with open('UPDATED_NLP_COURSE/TextFiles/reaganomics.txt') as f:\n",
    "    doc3 = nlp(f.read())"
   ]
  },
  {
   "cell_type": "code",
   "execution_count": 78,
   "id": "9cad72dc",
   "metadata": {},
   "outputs": [
    {
     "data": {
      "text/plain": [
       "[[voodoo economics],\n",
       " [supply-side economics],\n",
       " [trickle-down economics],\n",
       " [free-market economics]]"
      ]
     },
     "execution_count": 78,
     "metadata": {},
     "output_type": "execute_result"
    }
   ],
   "source": [
    "# First, create a list of match phrases:\n",
    "phrase_list = ['voodoo economics', 'supply-side economics', 'trickle-down economics', 'free-market economics']\n",
    "\n",
    "# Next, convert each phrase to a Doc object:\n",
    "phrase_patterns = [[nlp(text)] for text in phrase_list]\n",
    "\n",
    "phrase_patterns"
   ]
  },
  {
   "cell_type": "code",
   "execution_count": 80,
   "id": "bfacfb9e",
   "metadata": {},
   "outputs": [],
   "source": [
    "# # Pass each Doc object into matcher (note the use of the asterisk!):\n",
    "# matcher.add('VoodooEconomics', phrase_patterns)\n",
    "\n",
    "# # Build a list of matches:\n",
    "# matches = matcher(doc3)"
   ]
  },
  {
   "cell_type": "code",
   "execution_count": null,
   "id": "c8f2b488",
   "metadata": {},
   "outputs": [],
   "source": []
  }
 ],
 "metadata": {
  "kernelspec": {
   "display_name": "Python 3 (ipykernel)",
   "language": "python",
   "name": "python3"
  },
  "language_info": {
   "codemirror_mode": {
    "name": "ipython",
    "version": 3
   },
   "file_extension": ".py",
   "mimetype": "text/x-python",
   "name": "python",
   "nbconvert_exporter": "python",
   "pygments_lexer": "ipython3",
   "version": "3.9.4"
  }
 },
 "nbformat": 4,
 "nbformat_minor": 5
}
